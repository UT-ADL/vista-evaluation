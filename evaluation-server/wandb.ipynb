{
 "cells": [
  {
   "cell_type": "code",
   "execution_count": null,
   "id": "9def0e42",
   "metadata": {},
   "outputs": [],
   "source": [
    "import wandb\n",
    "import pandas as pd"
   ]
  },
  {
   "cell_type": "code",
   "execution_count": null,
   "id": "7d43e54f",
   "metadata": {},
   "outputs": [],
   "source": [
    "api = wandb.Api()\n",
    "\n",
    "# Project is specified by <entity/project-name>\n",
    "runs = api.runs(\"<entity/project-name>\")\n",
    "\n",
    "summary_list, config_list, name_list = [], [], []\n",
    "model_name,run_name,crash,whitness_eff,whitness_cmd,trace_path = [],[],[],[],[],[]\n",
    "for run in runs: \n",
    "    # .summary contains the output keys/values for metrics like accuracy.\n",
    "    #  We call ._json_dict to omit large files\n",
    "    if run.state==\"finished\":\n",
    "        run_name.append(run.name)\n",
    "        trace_path.append(run.config[\"trace_paths\"][0])\n",
    "        model_name.append(run.config[\"model_path\"][run.config[\"model_path\"].rfind(\"/\")+1:])\n",
    "        whitness_cmd.append(run.summary._json_dict[\"whiteness_cmd\"])\n",
    "        whitness_eff.append(run.summary._json_dict[\"whiteness_eff\"])\n",
    "        crash.append(run.summary._json_dict[\"crash_count\"])\n",
    "\n",
    "\n",
    "runs_df = pd.DataFrame({\n",
    "    \"model_name\":model_name,\n",
    "    \"run_name\":run_name,\n",
    "    \"crash\":crash,\n",
    "    \"whitness_eff\":whitness_eff,\n",
    "    \"whitness_cmd\":whitness_cmd,\n",
    "    \"trace_path\":trace_path\n",
    "\n",
    "    })\n"
   ]
  },
  {
   "cell_type": "code",
   "execution_count": null,
   "id": "c8878e99",
   "metadata": {},
   "outputs": [],
   "source": [
    "runs_df.model_name.unique()"
   ]
  },
  {
   "cell_type": "code",
   "execution_count": null,
   "id": "661bd311",
   "metadata": {},
   "outputs": [],
   "source": [
    "model = runs_df[runs_df.model_name==\"model.onnx\"].sort_values('trace_path')"
   ]
  },
  {
   "cell_type": "code",
   "execution_count": null,
   "id": "80aac1f1",
   "metadata": {
    "scrolled": true
   },
   "outputs": [],
   "source": [
    "model.loc[:,one.columns[[2,3]]]"
   ]
  }
 ],
 "metadata": {
  "kernelspec": {
   "display_name": "Python 3 (ipykernel)",
   "language": "python",
   "name": "python3"
  },
  "language_info": {
   "codemirror_mode": {
    "name": "ipython",
    "version": 3
   },
   "file_extension": ".py",
   "mimetype": "text/x-python",
   "name": "python",
   "nbconvert_exporter": "python",
   "pygments_lexer": "ipython3",
   "version": "3.8.16"
  }
 },
 "nbformat": 4,
 "nbformat_minor": 5
}
